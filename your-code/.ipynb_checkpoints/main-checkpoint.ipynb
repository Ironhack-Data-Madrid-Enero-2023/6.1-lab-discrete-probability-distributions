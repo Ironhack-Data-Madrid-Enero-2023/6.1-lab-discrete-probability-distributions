{
 "cells": [
  {
   "cell_type": "markdown",
   "metadata": {},
   "source": [
    "# Before your start:\n",
    "\n",
    "    Read the README.md file\n",
    "    Comment as much as you can and use the resources (README.md file)\n",
    "    Happy learning!\n",
    "\n",
    "*Notes:* \n",
    "\n",
    "- Solve the questions with python.\n",
    "\n",
    "- Round the final answer to three decimal places."
   ]
  },
  {
   "cell_type": "markdown",
   "metadata": {},
   "source": [
    "## Bernoulli's Distribution\n",
    "\n",
    "In a basket containing 100 fruits, there are 60 apples and 40 oranges. \n",
    "\n",
    "A fruit is picked randomly from the basket. \n",
    "\n",
    "1. **What is the probability that the fruit is apple?**\n",
    "1. **What is the probability that it is an orange?**"
   ]
  },
  {
   "cell_type": "code",
   "execution_count": 7,
   "metadata": {},
   "outputs": [
    {
     "name": "stdout",
     "output_type": "stream",
     "text": [
      "La fruta seleccionada aleatoriamente fue: apple\n",
      "La probabilidad de que la fruta sea una manzana es: 0.6\n",
      "La probabilidad de que la fruta sea una naranja es: 0.4\n"
     ]
    }
   ],
   "source": [
    "import numpy as np\n",
    "\n",
    "fruta = ['apple', 'orange']\n",
    "probabilidad = [0.6, 0.4]\n",
    "\n",
    "\n",
    "random_fruit = np.random.choice(fruta, p=probabilidad)\n",
    "\n",
    "\n",
    "p = probabilidad[0]\n",
    "q = probabilidad[1]\n",
    "\n",
    "print(\"La fruta seleccionada aleatoriamente fue:\", random_fruit)\n",
    "print(\"La probabilidad de que la fruta sea una manzana es:\", p)\n",
    "print(\"La probabilidad de que la fruta sea una naranja es:\", q)\n",
    "\n",
    "# your code here"
   ]
  },
  {
   "cell_type": "markdown",
   "metadata": {},
   "source": [
    "Now we take a random sample of 20 fruits from the basket. After each fruit is taken, a new fruit of the same type is replaced in the basket. Therefore, every time we are taking 1 fruit from 100 fruits. \n",
    "\n",
    "1. **What is the probability that the first 5 fruits are all apples?**\n",
    "\n",
    "1. **What is the probability that the first 5 fruits are all apples and the next 15 fruits are all oranges?**\n",
    "\n",
    "You can include the `p` and `q` probabilities you previous calculated in your solution."
   ]
  },
  {
   "cell_type": "code",
   "execution_count": 8,
   "metadata": {},
   "outputs": [
    {
     "name": "stdout",
     "output_type": "stream",
     "text": [
      "La probabilidad de seleccionar exactamente 5 manzanas es: 0.0012944935222876583\n"
     ]
    }
   ],
   "source": [
    "# your code here\n",
    "from scipy.stats import binom\n",
    "\n",
    "n = 20  # ensayos\n",
    "p = 0.6  # probabilidad manzana\n",
    "\n",
    "# Probabilidad de seleccionar exactamente 5 manzanas en una muestra de 20 frutas\n",
    "P_5_apples = binom.pmf(5, n, p)\n",
    "\n",
    "print(\"La probabilidad de seleccionar exactamente 5 manzanas es:\", P_5_apples)\n",
    "\n"
   ]
  },
  {
   "cell_type": "markdown",
   "metadata": {},
   "source": [
    "## Binomial Distribution\n",
    "\n",
    "Similar to the above problem, this time again we randomly sample 20 fruits.\n",
    "\n",
    "**What is the probability that this time the sample contains 5 apples and 15 oranges?**\n",
    "\n",
    "Please note that this time the order of the fruits being picked does not matter."
   ]
  },
  {
   "cell_type": "code",
   "execution_count": 3,
   "metadata": {},
   "outputs": [
    {
     "name": "stdout",
     "output_type": "stream",
     "text": [
      "La probabilidad de seleccionar 5 manzanas y 15 naranjas en una muestra de 20 frutas es: 1.675713479244708e-06\n"
     ]
    }
   ],
   "source": [
    "# your code here\n",
    "\n",
    "\n",
    "n = 20  #ensayos\n",
    "p = 0.6  # probabilidad manzana\n",
    "P_5_apples = binom.pmf(5, n, p)\n",
    "\n",
    "# Probabilidad de seleccionar exactamente 15 naranjas en una muestra de 20 frutas\n",
    "P_15_oranges = binom.pmf(15, n, 1-p)\n",
    "\n",
    "# Probabilidad de seleccionar 5 manzanas y 15 naranjas en una muestra de 20 frutas\n",
    "P_5_apples_and_15_oranges = P_5_apples * P_15_oranges\n",
    "\n",
    "print(\"La probabilidad de seleccionar 5 manzanas y 15 naranjas en una muestra de 20 frutas es:\", P_5_apples_and_15_oranges)\n"
   ]
  },
  {
   "cell_type": "markdown",
   "metadata": {},
   "source": [
    "In the lesson we also discussed CDF (cumulative distribution function). In the context of the above problem, **what is the probability that less than 5 fruits picked are apples?**\n",
    "\n",
    "Write the formula and calculate the probability below."
   ]
  },
  {
   "cell_type": "code",
   "execution_count": 5,
   "metadata": {},
   "outputs": [
    {
     "name": "stdout",
     "output_type": "stream",
     "text": [
      "La probabilidad de seleccionar menos de 5 manzanas en una muestra de 20 frutas es: 0.00031703112116863004\n"
     ]
    }
   ],
   "source": [
    "# your code here\n",
    "\n",
    "#F(k) = sum(i=0 to k) (n choose i) * p^i * (1-p)^(n-i)\n",
    "\n",
    "n = 20  #ensayos\n",
    "p = 0.6  # probabilidad manzana\n",
    "\n",
    "# Probabilidad de seleccionar menos de 5 manzanas en una muestra de 20 frutas\n",
    "P_less_than_5_apples = binom.cdf(4, n, p)\n",
    "\n",
    "print(\"La probabilidad de seleccionar menos de 5 manzanas en una muestra de 20 frutas es:\", P_less_than_5_apples)\n"
   ]
  },
  {
   "cell_type": "markdown",
   "metadata": {},
   "source": [
    "**Plot the PDF (probability distributiom function) for the above binomial distribution.**\n",
    "\n",
    "*Hint: The range of x in a binomial distribution is from `0` to `n`.*"
   ]
  },
  {
   "cell_type": "code",
   "execution_count": 9,
   "metadata": {},
   "outputs": [
    {
     "data": {
      "image/png": "[encoded data removed]",
      "text/plain": [
       "<Figure size 640x480 with 1 Axes>"
      ]
     },
     "metadata": {},
     "output_type": "display_data"
    }
   ],
   "source": [
    "# your code here\n",
    "\n",
    "import matplotlib.pyplot as plt\n",
    "\n",
    "\n",
    "n = 20\n",
    "p = 0.6\n",
    "\n",
    "x = np.arange(0, n+1)\n",
    "pmf = binom.pmf(x, n, p)\n",
    "\n",
    "plt.bar(x, pmf)\n",
    "plt.xlabel(\"Número de casos\")\n",
    "plt.ylabel(\"Probabilidad\")\n",
    "plt.title(\"Binomial distribution n=20, p=0.6\")\n",
    "plt.show()\n",
    "\n",
    "\n",
    "\n",
    "# Please label the axes and give a title to the plot "
   ]
  },
  {
   "cell_type": "markdown",
   "metadata": {},
   "source": [
    "## Poisson Distribution\n",
    "\n",
    "In this challenge you are required to use the Math library in python to solve the problems.\n",
    "\n",
    "In the UEFA champions league tournament, the average number of goals scored in a match is 2.3. \n",
    "\n",
    "**What is the probability that the number of goals scored in a match is 5?**\n",
    "\n",
    "*Hint: Use the exp() in the math library*\n",
    "\n",
    "And to calculate the factorial, you can use the following code:\n",
    "\n",
    "```python\n",
    "import math\n",
    "math.factorial(n) # n is the number you want to find the factorial of\n",
    "```"
   ]
  },
  {
   "cell_type": "code",
   "execution_count": 11,
   "metadata": {},
   "outputs": [
    {
     "name": "stdout",
     "output_type": "stream",
     "text": [
      "La probabilidad que hay de que hayan 5 goles en el partido es: 0.0537750255819468\n"
     ]
    }
   ],
   "source": [
    "# your code here \n",
    "import math\n",
    "\n",
    "lam = 2.3\n",
    "k = 5\n",
    "\n",
    "\n",
    "prob = math.exp(-lam) * (lam**k) / math.factorial(k)\n",
    "\n",
    "print(\"La probabilidad que hay de que hayan 5 goles en el partido es:\", prob)\n",
    "\n",
    "\n"
   ]
  },
  {
   "cell_type": "markdown",
   "metadata": {},
   "source": [
    "**Draw a poisson probability distribution plot for the number of goals to be between 0 to 10.**"
   ]
  },
  {
   "cell_type": "code",
   "execution_count": 12,
   "metadata": {},
   "outputs": [
    {
     "data": {
      "image/png": "[encoded data removed]",
      "text/plain": [
       "<Figure size 640x480 with 1 Axes>"
      ]
     },
     "metadata": {},
     "output_type": "display_data"
    }
   ],
   "source": [
    "# your code here\n",
    "\n",
    "lam = 2.3\n",
    "\n",
    "x = range(0, 11)\n",
    "\n",
    "\n",
    "pmf = [math.exp(-lam) * (lam**k) / math.factorial(k) for k in x]\n",
    "\n",
    "plt.bar(x, pmf)\n",
    "plt.xlabel(\"Goles\")\n",
    "plt.ylabel(\"Probabilidad\")\n",
    "plt.title(\"Poisson distribution para el número de goles con media 2.3\")\n",
    "plt.show()\n",
    "\n",
    "\n",
    "\n",
    "# Please label the axes and give a title to the plot "
   ]
  },
  {
   "cell_type": "code",
   "execution_count": null,
   "metadata": {},
   "outputs": [],
   "source": []
  }
 ],
 "metadata": {
  "kernelspec": {
   "display_name": "Python 3 (ipykernel)",
   "language": "python",
   "name": "python3"
  },
  "language_info": {
   "codemirror_mode": {
    "name": "ipython",
    "version": 3
   },
   "file_extension": ".py",
   "mimetype": "text/x-python",
   "name": "python",
   "nbconvert_exporter": "python",
   "pygments_lexer": "ipython3",
   "version": "3.9.13"
  }
 },
 "nbformat": 4,
 "nbformat_minor": 2
}
