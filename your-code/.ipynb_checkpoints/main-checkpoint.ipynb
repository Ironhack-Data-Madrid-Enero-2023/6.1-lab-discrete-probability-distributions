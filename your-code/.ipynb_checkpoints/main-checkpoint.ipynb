{
 "cells": [
  {
   "cell_type": "markdown",
   "metadata": {},
   "source": [
    "# Before your start:\n",
    "\n",
    "    Read the README.md file\n",
    "    Comment as much as you can and use the resources (README.md file)\n",
    "    Happy learning!\n",
    "\n",
    "*Notes:* \n",
    "\n",
    "- Solve the questions with python.\n",
    "\n",
    "- Round the final answer to three decimal places."
   ]
  },
  {
   "cell_type": "markdown",
   "metadata": {},
   "source": [
    "## Bernoulli's Distribution\n",
    "\n",
    "In a basket containing 100 fruits, there are 60 apples and 40 oranges. \n",
    "\n",
    "A fruit is picked randomly from the basket. \n",
    "\n",
    "1. **What is the probability that the fruit is apple?**\n",
    "1. **What is the probability that it is an orange?**"
   ]
  },
  {
   "cell_type": "code",
   "execution_count": null,
   "metadata": {},
   "outputs": [],
   "source": [
    "\"\"\"\n",
    "Calculate:\n",
    "p = probability that the fruit is an apple \n",
    "q = probability that the fruit is an orange\n",
    "\"\"\"\n",
    "\n",
    "num_apples = 60\n",
    "num_oranges = 40\n",
    "\n",
    "\n",
    "total_fruits = num_apples + num_oranges\n",
    "\n",
    "\n",
    "prob_apple = num_apples / total_fruits\n",
    "print(\"Probability of picking an apple:\", prob_apple)\n",
    "\n",
    "prob_orange = num_oranges / total_fruits\n",
    "print(\"Probability of picking an orange:\", prob_orange)"
   ]
  },
  {
   "cell_type": "markdown",
   "metadata": {},
   "source": [
    "Now we take a random sample of 20 fruits from the basket. After each fruit is taken, a new fruit of the same type is replaced in the basket. Therefore, every time we are taking 1 fruit from 100 fruits. \n",
    "\n",
    "1. **What is the probability that the first 5 fruits are all apples?**\n",
    "\n",
    "1. **What is the probability that the first 5 fruits are all apples and the next 15 fruits are all oranges?**\n",
    "\n",
    "You can include the `p` and `q` probabilities you previous calculated in your solution."
   ]
  },
  {
   "cell_type": "code",
   "execution_count": 1,
   "metadata": {},
   "outputs": [
    {
     "name": "stdout",
     "output_type": "stream",
     "text": [
      "Probability of first 5 fruits being apples: 0.07775999999999998\n",
      "Probability of next 15 fruits being oranges: 1.073741824000001e-06\n",
      "Probability of first 5 fruits being apples and next 15 fruits being oranges: 8.349416423424006e-08\n"
     ]
    }
   ],
   "source": [
    "prob_5apples = 0.6 ** 5\n",
    "print(\"Probability of first 5 fruits being apples:\", prob_5apples)\n",
    "\n",
    "prob_15oranges = 0.4 ** 15\n",
    "print(\"Probability of next 15 fruits being oranges:\", prob_15oranges)\n",
    "\n",
    "prob_both = prob_5apples * prob_15oranges\n",
    "print(\"Probability of first 5 fruits being apples and next 15 fruits being oranges:\", prob_both)\n"
   ]
  },
  {
   "cell_type": "markdown",
   "metadata": {},
   "source": [
    "## Binomial Distribution\n",
    "\n",
    "Similar to the above problem, this time again we randomly sample 20 fruits.\n",
    "\n",
    "**What is the probability that this time the sample contains 5 apples and 15 oranges?**\n",
    "\n",
    "Please note that this time the order of the fruits being picked does not matter."
   ]
  },
  {
   "cell_type": "code",
   "execution_count": 2,
   "metadata": {},
   "outputs": [
    {
     "name": "stdout",
     "output_type": "stream",
     "text": [
      "Probability of obtaining a sample of 5 apples and 15 oranges: 0.00040988436742350683\n"
     ]
    }
   ],
   "source": [
    "import math\n",
    "\n",
    "apples = math.comb(60, 5)\n",
    "\n",
    "oranges = math.comb(40, 15)\n",
    "\n",
    "total = math.comb(100, 20)\n",
    "\n",
    "prob = (apples * oranges) / total\n",
    "\n",
    "print(\"Probability of obtaining a sample of 5 apples and 15 oranges:\", prob)\n"
   ]
  },
  {
   "cell_type": "markdown",
   "metadata": {},
   "source": [
    "In the lesson we also discussed CDF (cumulative distribution function). In the context of the above problem, **what is the probability that less than 5 fruits picked are apples?**\n",
    "\n",
    "Write the formula and calculate the probability below."
   ]
  },
  {
   "cell_type": "code",
   "execution_count": 3,
   "metadata": {},
   "outputs": [
    {
     "name": "stdout",
     "output_type": "stream",
     "text": [
      "Probability that less than 5 fruits picked are apples: 0.00031703112116863\n"
     ]
    }
   ],
   "source": [
    "# P(X < 5) = P(X = 0) + P(X = 1) + P(X = 2) + P(X = 3) + P(X = 4)\n",
    "\n",
    "import math\n",
    "\n",
    "# Define the parameters of the binomial distribution\n",
    "n = 20\n",
    "p = 0.6\n",
    "\n",
    "# Initialize the probability to 0\n",
    "prob = 0\n",
    "\n",
    "# Calculate the probability of X = 0\n",
    "x = 0\n",
    "prob += math.comb(n, x) * p**x * (1-p)**(n-x)\n",
    "\n",
    "# Calculate the probability of X = 1\n",
    "x = 1\n",
    "prob += math.comb(n, x) * p**x * (1-p)**(n-x)\n",
    "\n",
    "# Calculate the probability of X = 2\n",
    "x = 2\n",
    "prob += math.comb(n, x) * p**x * (1-p)**(n-x)\n",
    "\n",
    "# Calculate the probability of X = 3\n",
    "x = 3\n",
    "prob += math.comb(n, x) * p**x * (1-p)**(n-x)\n",
    "\n",
    "# Calculate the probability of X = 4\n",
    "x = 4\n",
    "prob += math.comb(n, x) * p**x * (1-p)**(n-x)\n",
    "\n",
    "print(\"Probability that less than 5 fruits picked are apples:\", prob)\n"
   ]
  },
  {
   "cell_type": "markdown",
   "metadata": {},
   "source": [
    "**Plot the PDF (probability distributiom function) for the above binomial distribution.**\n",
    "\n",
    "*Hint: The range of x in a binomial distribution is from `0` to `n`.*"
   ]
  },
  {
   "cell_type": "code",
   "execution_count": 4,
   "metadata": {},
   "outputs": [
    {
     "data": {
      "image/png": "[encoded data removed]",
      "text/plain": [
       "<Figure size 432x288 with 1 Axes>"
      ]
     },
     "metadata": {
      "needs_background": "light"
     },
     "output_type": "display_data"
    }
   ],
   "source": [
    "import numpy as np\n",
    "import matplotlib.pyplot as plt\n",
    "from scipy.stats import binom\n",
    "\n",
    "# Define the parameters of the binomial distribution\n",
    "n = 20\n",
    "p = 0.6\n",
    "\n",
    "# Create an array of possible values for X\n",
    "x = np.arange(0, n+1)\n",
    "\n",
    "# Calculate the PMF of the binomial distribution\n",
    "pmf = binom.pmf(x, n, p)\n",
    "\n",
    "# Plot the PMF\n",
    "plt.plot(x, pmf, 'bo-', linewidth=2, markersize=8)\n",
    "plt.xlabel('Number of apples')\n",
    "plt.ylabel('Probability')\n",
    "plt.title('Binomial Distribution PMF for n = 20 and p = 0.6')\n",
    "plt.grid()\n",
    "plt.show()\n"
   ]
  },
  {
   "cell_type": "markdown",
   "metadata": {},
   "source": [
    "## Poisson Distribution\n",
    "\n",
    "In this challenge you are required to use the Math library in python to solve the problems.\n",
    "\n",
    "In the UEFA champions league tournament, the average number of goals scored in a match is 2.3. \n",
    "\n",
    "**What is the probability that the number of goals scored in a match is 5?**\n",
    "\n",
    "*Hint: Use the exp() in the math library*\n",
    "\n",
    "And to calculate the factorial, you can use the following code:\n",
    "\n",
    "```python\n",
    "import math\n",
    "math.factorial(n) # n is the number you want to find the factorial of\n",
    "```"
   ]
  },
  {
   "cell_type": "code",
   "execution_count": 5,
   "metadata": {},
   "outputs": [
    {
     "name": "stdout",
     "output_type": "stream",
     "text": [
      "The probability of scoring 5 goals in a match is: 0.0537750255819468\n"
     ]
    }
   ],
   "source": [
    "# Set the values of k and lambda\n",
    "k = 5\n",
    "lambd = 2.3\n",
    "\n",
    "# Calculate the Poisson probability mass function for k goals\n",
    "p = (lambd**k * math.exp(-lambd)) / math.factorial(k)\n",
    "\n",
    "print(\"The probability of scoring 5 goals in a match is:\", p)\n"
   ]
  },
  {
   "cell_type": "markdown",
   "metadata": {},
   "source": [
    "**Draw a poisson probability distribution plot for the number of goals to be between 0 to 10.**"
   ]
  },
  {
   "cell_type": "code",
   "execution_count": 17,
   "metadata": {},
   "outputs": [
    {
     "data": {
      "image/png": "[encoded data removed]",
      "text/plain": [
       "<Figure size 432x288 with 1 Axes>"
      ]
     },
     "metadata": {
      "needs_background": "light"
     },
     "output_type": "display_data"
    }
   ],
   "source": [
    "from scipy.stats import poisson\n",
    "\n",
    "# Define the parameter lambda\n",
    "lam = 2.3\n",
    "\n",
    "# Create an array of possible values for k\n",
    "k = np.arange(0, 11)\n",
    "\n",
    "# Calculate the PMF of the Poisson distribution\n",
    "pmf = poisson.pmf(k, lam)\n",
    "\n",
    "# Plot the PMF\n",
    "plt.plot(k, pmf, 'bo-', linewidth=2, markersize=8)\n",
    "plt.xlabel('Number of goals')\n",
    "plt.ylabel('Probability')\n",
    "plt.title('Poisson Distribution PMF for lambda=2.3')\n",
    "plt.grid()"
   ]
  },
  {
   "cell_type": "code",
   "execution_count": null,
   "metadata": {},
   "outputs": [],
   "source": []
  }
 ],
 "metadata": {
  "kernelspec": {
   "display_name": "Python 3 (ipykernel)",
   "language": "python",
   "name": "python3"
  },
  "language_info": {
   "codemirror_mode": {
    "name": "ipython",
    "version": 3
   },
   "file_extension": ".py",
   "mimetype": "text/x-python",
   "name": "python",
   "nbconvert_exporter": "python",
   "pygments_lexer": "ipython3",
   "version": "3.9.7"
  }
 },
 "nbformat": 4,
 "nbformat_minor": 2
}
